{
 "cells": [
  {
   "cell_type": "code",
   "execution_count": null,
   "metadata": {},
   "outputs": [],
   "source": [
    "! pip install traci\n",
    "import traci"
   ]
  },
  {
   "cell_type": "code",
   "execution_count": null,
   "metadata": {},
   "outputs": [],
   "source": [
    "sumoBinary = \"/usr/local/bin/sumo-gui\"\n",
    "sumoCmd = [sumoBinary, \"-c\", \"/Users/Ankai/Desktop/virtual_edge/code/SUMO/street.sumocfg\"]"
   ]
  },
  {
   "cell_type": "code",
   "execution_count": 12,
   "metadata": {},
   "outputs": [
    {
     "name": "stdout",
     "output_type": "stream",
     "text": [
      " Retrying in 1 seconds\n"
     ]
    },
    {
     "name": "stderr",
     "output_type": "stream",
     "text": [
      "Warning: Could not set locale to 'C'.\n"
     ]
    },
    {
     "name": "stdout",
     "output_type": "stream",
     "text": [
      "Step 0:\n",
      "  Vehicle v_1: x = -94.9, y = -1.6\n",
      "  Vehicle v_2: x = 94.9, y = 1.6\n",
      "Step 1:\n",
      "  Vehicle v_1: x = -92.87037561652251, y = -1.6\n",
      "  Vehicle v_2: x = 92.55996476649307, y = 1.6\n",
      "Step 2:\n",
      "  Vehicle v_1: x = -88.88632547904271, y = -1.6\n",
      "  Vehicle v_2: x = 88.7784414204536, y = 1.6\n",
      "Step 3:\n",
      "  Vehicle v_1: x = -82.34337297310121, y = -1.6\n",
      "  Vehicle v_2: x = 82.54531405272428, y = 1.6\n",
      "Step 4:\n",
      "  Vehicle v_1: x = -74.07313062781468, y = -1.6\n",
      "  Vehicle v_2: x = 74.45131566179917, y = 1.6\n",
      "Step 5:\n",
      "  Vehicle v_1: x = -64.37994816973804, y = -1.6\n",
      "  Vehicle v_2: x = 64.0552889651386, y = 1.6\n",
      "Step 6:\n",
      "  Vehicle v_1: x = -53.006695992941964, y = -1.6\n",
      "  Vehicle v_2: x = 51.560883540497166, y = 1.6\n",
      "Step 7:\n",
      "  Vehicle v_1: x = -39.97310303917621, y = -1.6\n",
      "  Vehicle v_2: x = 39.69155938772179, y = 1.6\n",
      "Step 8:\n",
      "  Vehicle v_1: x = -26.460523873212182, y = -1.6\n",
      "  Vehicle v_2: x = 27.494220428754048, y = 1.6\n",
      "Step 9:\n",
      "  Vehicle v_1: x = -12.587351237714103, y = -1.6\n",
      "  Vehicle v_2: x = 15.586183995525488, y = 1.6\n",
      "Step 10:\n",
      "  Vehicle v_1: x = 1.554560058605682, y = -1.6\n",
      "  Vehicle v_2: x = 3.667363058223259, y = 1.6\n",
      "Step 11:\n",
      "  Vehicle v_1: x = 15.111809837516782, y = -1.6\n",
      "  Vehicle v_2: x = -8.220404587212423, y = 1.6\n",
      "Step 12:\n",
      "  Vehicle v_1: x = 29.834703782557526, y = -1.6\n",
      "  Vehicle v_2: x = -20.404044418097214, y = 1.6\n",
      "Step 13:\n",
      "  Vehicle v_1: x = 44.13113792747224, y = -1.6\n",
      "  Vehicle v_2: x = -32.74321943459847, y = 1.6\n",
      "Step 14:\n",
      "  Vehicle v_1: x = 58.6806489293894, y = -1.6\n",
      "  Vehicle v_2: x = -45.2659263172525, y = 1.6\n",
      "Step 15:\n",
      "  Vehicle v_1: x = 72.83990694750364, y = -1.6\n",
      "  Vehicle v_2: x = -57.282112548346255, y = 1.6\n",
      "Step 16:\n",
      "  Vehicle v_1: x = 87.38408975972276, y = -1.6\n",
      "  Vehicle v_2: x = -69.3078606939715, y = 1.6\n",
      "Step 17:\n",
      "  Vehicle v_2: x = -81.82851012708261, y = 1.6\n",
      "Step 18:\n",
      "  Vehicle v_2: x = -94.0021006810753, y = 1.6\n"
     ]
    }
   ],
   "source": [
    "# Start SUMO\n",
    "traci.start(sumoCmd)\n",
    "\n",
    "vehicle_positions = {}\n",
    "\n",
    "for step in range(30):\n",
    "    traci.simulationStep()\n",
    "    \n",
    "    for vehicle_id in traci.vehicle.getIDList():\n",
    "        vehicle_pos = traci.vehicle.getPosition(vehicle_id)\n",
    "        if step not in vehicle_positions:\n",
    "            vehicle_positions[step] = {}\n",
    "        vehicle_positions[step][vehicle_id] = vehicle_pos\n",
    "\n",
    "traci.close()\n",
    "\n",
    "for step, positions in vehicle_positions.items():\n",
    "    print(f\"Step {step}:\")\n",
    "    for vehicle_id, position in positions.items():\n",
    "            print(f\"  Vehicle {vehicle_id}: x: {position[0]}, y: {position[1]}\")\n"
   ]
  },
  {
   "cell_type": "markdown",
   "metadata": {},
   "source": [
    " traci.vehicle.add(\"newVeh\", \"r_0\", typeID=\"reroutingType\")\n",
    " \n",
    " x, y = traci.vehicle.getPosition(vehID)"
   ]
  }
 ],
 "metadata": {
  "kernelspec": {
   "display_name": "Python 3",
   "language": "python",
   "name": "python3"
  },
  "language_info": {
   "codemirror_mode": {
    "name": "ipython",
    "version": 3
   },
   "file_extension": ".py",
   "mimetype": "text/x-python",
   "name": "python",
   "nbconvert_exporter": "python",
   "pygments_lexer": "ipython3",
   "version": "3.10.8"
  }
 },
 "nbformat": 4,
 "nbformat_minor": 2
}
