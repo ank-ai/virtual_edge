{
 "cells": [
  {
   "cell_type": "code",
   "execution_count": null,
   "metadata": {},
   "outputs": [],
   "source": [
    "! pip install traci\n",
    "import traci"
   ]
  },
  {
   "cell_type": "code",
   "execution_count": null,
   "metadata": {},
   "outputs": [],
   "source": [
    "sumoBinary = \"/usr/local/bin/sumo-gui\"\n",
    "sumoCmd = [sumoBinary, \"-c\", \"/Users/Ankai/Desktop/virtual_edge/code/SUMO/street.sumocfg\"]"
   ]
  },
  {
   "cell_type": "code",
   "execution_count": null,
   "metadata": {},
   "outputs": [],
   "source": [
    "# Start SUMO\n",
    "traci.start(sumoCmd)\n",
    "\n",
    "vehicle_positions = {}\n",
    "\n",
    "for step in range(30):\n",
    "    traci.simulationStep()\n",
    "    \n",
    "    for vehicle_id in traci.vehicle.getIDList():\n",
    "        vehicle_pos = traci.vehicle.getPosition(vehicle_id)\n",
    "        if step not in vehicle_positions:\n",
    "            vehicle_positions[step] = {}\n",
    "        vehicle_positions[step][vehicle_id] = vehicle_pos\n",
    "\n",
    "traci.close()\n"
   ]
  },
  {
   "cell_type": "code",
   "execution_count": null,
   "metadata": {},
   "outputs": [],
   "source": [
    "for step in vehicle_positions:\n",
    "    print(f\"Step {step}:\")\n",
    "    for vehicle_id, position in vehicle_positions[step].items():\n",
    "        print(f\"  Vehicle {vehicle_id}: x: {position[0]}, y: {position[1]}\")"
   ]
  },
  {
   "cell_type": "markdown",
   "metadata": {},
   "source": [
    " traci.vehicle.add(\"newVeh\", \"r_0\", typeID=\"reroutingType\")\n",
    " \n",
    " x, y = traci.vehicle.getPosition(vehID)"
   ]
  }
 ],
 "metadata": {
  "kernelspec": {
   "display_name": "Python 3",
   "language": "python",
   "name": "python3"
  },
  "language_info": {
   "codemirror_mode": {
    "name": "ipython",
    "version": 3
   },
   "file_extension": ".py",
   "mimetype": "text/x-python",
   "name": "python",
   "nbconvert_exporter": "python",
   "pygments_lexer": "ipython3",
   "version": "3.10.8"
  }
 },
 "nbformat": 4,
 "nbformat_minor": 2
}
