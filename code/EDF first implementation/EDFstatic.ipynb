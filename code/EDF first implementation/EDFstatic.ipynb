{
 "cells": [
  {
   "cell_type": "markdown",
   "metadata": {},
   "source": [
    "Earliest Deadline First (static version)"
   ]
  },
  {
   "cell_type": "code",
   "execution_count": 21,
   "metadata": {},
   "outputs": [],
   "source": [
    "from datetime import datetime\n",
    "import queue"
   ]
  },
  {
   "cell_type": "markdown",
   "metadata": {},
   "source": [
    "Each Task should have:\n",
    "-  an id \n",
    "- an execution time (time it takes to complete the task) \n",
    "- and a deadline (date and time)"
   ]
  },
  {
   "cell_type": "code",
   "execution_count": 22,
   "metadata": {},
   "outputs": [],
   "source": [
    "class Task:\n",
    "\n",
    "    def __init__(self, id, execution_time, deadline):\n",
    "        self.id = id\n",
    "        self.execution_time = execution_time\n",
    "        self.deadline = deadline\n",
    "\n",
    "\n",
    "    def print_values(self):\n",
    "        print(f'Task {self.id}:')\n",
    "        print(f'execution time - {self.execution_time} seconds')\n",
    "        print(f'deadline - {self.deadline} \\n')\n",
    "\n",
    "    def __lt__(self, other):        #less than method, compare deadlines\n",
    "        return self.deadline < other.deadline       "
   ]
  },
  {
   "cell_type": "markdown",
   "metadata": {},
   "source": [
    "Define some tasks with different deadlines:"
   ]
  },
  {
   "cell_type": "code",
   "execution_count": 23,
   "metadata": {},
   "outputs": [],
   "source": [
    "tasks = [\n",
    "\n",
    "     Task(1, 8, datetime(2024, 4, 17, 15, 30, 00)),\n",
    "     Task(2, 10, datetime(2024, 4, 17, 15, 15, 00)),\n",
    "     Task(3, 17, datetime(2024, 4, 17, 15, 48, 00)),\n",
    "     Task(4,  15, datetime(2024, 4, 17, 15, 32, 00)),\n",
    "     Task(5, 5, datetime(2024, 4, 17, 15, 10, 00))\n",
    "     \n",
    "]"
   ]
  },
  {
   "cell_type": "markdown",
   "metadata": {},
   "source": [
    "Create a priority queue to sort the tasks by their deadline and add the tasks to the queue"
   ]
  },
  {
   "cell_type": "code",
   "execution_count": 24,
   "metadata": {},
   "outputs": [
    {
     "name": "stdout",
     "output_type": "stream",
     "text": [
      "adding 5 tasks to the priority queue\n",
      "finished adding 5 tasks \n",
      "\n"
     ]
    }
   ],
   "source": [
    "scheduling_queue = queue.PriorityQueue()\n",
    "\n",
    "def addTasks(tasks):\n",
    "    print(f\"adding {len(tasks)} tasks to the priority queue\")\n",
    "    for task in tasks:\n",
    "        scheduling_queue.put(task)\n",
    "    print(f\"finished adding {len(tasks)} tasks \\n\")\n",
    "\n",
    "addTasks(tasks)"
   ]
  },
  {
   "cell_type": "markdown",
   "metadata": {},
   "source": [
    "Add each queued item to an execution order list and print out the execution order"
   ]
  },
  {
   "cell_type": "code",
   "execution_count": 25,
   "metadata": {},
   "outputs": [
    {
     "name": "stdout",
     "output_type": "stream",
     "text": [
      "Execute tasks in the following order: \n",
      "\n",
      "Task 5:\n",
      "execution time - 5 seconds\n",
      "deadline - 2024-04-17 15:10:00 \n",
      "\n",
      "Task 2:\n",
      "execution time - 10 seconds\n",
      "deadline - 2024-04-17 15:15:00 \n",
      "\n",
      "Task 1:\n",
      "execution time - 8 seconds\n",
      "deadline - 2024-04-17 15:30:00 \n",
      "\n",
      "Task 4:\n",
      "execution time - 15 seconds\n",
      "deadline - 2024-04-17 15:32:00 \n",
      "\n",
      "Task 3:\n",
      "execution time - 17 seconds\n",
      "deadline - 2024-04-17 15:48:00 \n",
      "\n"
     ]
    }
   ],
   "source": [
    "execution_order = []\n",
    "\n",
    "for task in range(scheduling_queue.qsize()):\n",
    "    execution_order.append(scheduling_queue.get())\n",
    "\n",
    "print(\"Execute tasks in the following order: \\n\")\n",
    "for element in execution_order:\n",
    "    element.print_values()\n",
    " "
   ]
  }
 ],
 "metadata": {
  "kernelspec": {
   "display_name": "Python 3",
   "language": "python",
   "name": "python3"
  },
  "language_info": {
   "codemirror_mode": {
    "name": "ipython",
    "version": 3
   },
   "file_extension": ".py",
   "mimetype": "text/x-python",
   "name": "python",
   "nbconvert_exporter": "python",
   "pygments_lexer": "ipython3",
   "version": "3.10.8"
  }
 },
 "nbformat": 4,
 "nbformat_minor": 2
}
