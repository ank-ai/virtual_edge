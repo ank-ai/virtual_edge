{
 "cells": [
  {
   "cell_type": "markdown",
   "metadata": {},
   "source": [
    "Earliest Deadline First (dynamic version)\n",
    "\n",
    "Three tasks are added to a priority queue during runtime. \n",
    "The first two tasks after 5 seconds of listening for incoming tasks and the last task after another 5 seconds.\n",
    "\n",
    "The full scheduling order can be seen in the execution_order List, after all the Tasks have finished running"
   ]
  },
  {
   "cell_type": "code",
   "execution_count": null,
   "metadata": {},
   "outputs": [],
   "source": [
    "from datetime import datetime\n",
    "import queue\n",
    "import time\n",
    "import threading"
   ]
  },
  {
   "cell_type": "markdown",
   "metadata": {},
   "source": [
    "Tasks are made comparable and can be executed. \n",
    "\n",
    "Each task has:\n",
    "-  an id\n",
    "- an execution time (time needed to execute the whole task)\n",
    "- a deadline\n",
    "- a start time, to track when the task started running/ running again \n",
    "- elapsed time, to track a tasks total time running (not counting the time during preemption)\n",
    "- exists since: time, when the task was created and ready for execution\n"
   ]
  },
  {
   "cell_type": "code",
   "execution_count": null,
   "metadata": {},
   "outputs": [],
   "source": [
    "currentlyExecutedTask = None    # holds the task task is being to compare different deadlines\n",
    "currentlyExecutedThread = None  # holds the thread of the task, that is being executed\n",
    "execution_order = []            \n",
    "stopFlag = False            \n",
    "\n",
    "class Task:\n",
    "\n",
    "    def __init__(self, id, execution_time, deadline):\n",
    "        self.id = id\n",
    "        self.execution_time = execution_time\n",
    "        self.deadline = deadline\n",
    "        self.start_time = None\n",
    "        self.elapsed_time = 0\n",
    "        self.exists_since = datetime.now().strftime('%Y-%m-%d %H:%M:%S')\n",
    "\n",
    "\n",
    "    def print_values(self):\n",
    "        print(f'Task {self.id}:')\n",
    "        print(f'execution time - {self.execution_time} seconds')\n",
    "        print(f'instantiated at {self.exists_since}')\n",
    "        print(f'deadline - {self.deadline} \\n')\n",
    "\n",
    "\n",
    "    def __lt__(self, other):  #makes tasks comparable\n",
    "        return self.deadline < other.deadline\n",
    "    \n",
    "    def execute_task(self):\n",
    "\n",
    "        global stopFlag\n",
    "        global currentlyExecutedTask\n",
    "\n",
    "        self.start_time = datetime.now()\n",
    "        print(f\"Task {self.id} started at {self.start_time.strftime('%Y-%m-%d %H:%M:%S')} \\n\")\n",
    "        \n",
    "        while not stopFlag and self.elapsed_time < self.execution_time:\n",
    "            time.sleep(1) \n",
    "            self.elapsed_time = (datetime.now() - self.start_time).total_seconds()\n",
    "        \n",
    "        self.end_time = datetime.now()\n",
    "        self.elapsed_time = (self.end_time - self.start_time).total_seconds()\n",
    "        \n",
    "        if stopFlag:\n",
    "            print(f\"Task {self.id} was interrupted at {self.end_time.strftime('%Y-%m-%d %H:%M:%S')}\")\n",
    "\n",
    "        else:\n",
    "            print(f\"Task {self.id} finished at {self.end_time.strftime('%Y-%m-%d %H:%M:%S')}\")\n",
    "            currentlyExecutedTask = None\n",
    "        print(f\"Elapsed time: {self.elapsed_time} seconds \\n\")"
   ]
  },
  {
   "cell_type": "markdown",
   "metadata": {},
   "source": [
    "Using a priority queue, the tasks can be held in order.\n",
    "\n",
    "\n",
    "The task with the highest priority is run in a thread, which can be stopped and rerun at a later time, with the progress (elapsed time) saved.\n",
    "\n",
    "The monitoring queue, run in a separate thread, constantly checks if a task has with a higher priority (closer deadline) has arrived.\n"
   ]
  },
  {
   "cell_type": "code",
   "execution_count": null,
   "metadata": {},
   "outputs": [],
   "source": [
    "task_queue = queue.PriorityQueue()\n",
    "stopMonitoring = False\n",
    "\n",
    "def runTaskInThread(task):\n",
    "    task_thread = threading.Thread(target= task.execute_task)\n",
    "    task_thread.start()\n",
    "    return task_thread\n",
    "\n",
    "def monitor_queue():\n",
    "\n",
    "    global currentlyExecutedTask\n",
    "    global stopFlag\n",
    "    global currentlyExecutedThread\n",
    "\n",
    "    while not stopMonitoring:\n",
    "\n",
    "        if task_queue.qsize() == 0:\n",
    "            print(\"task queue is empty\")\n",
    "        else: \n",
    "\n",
    "            if currentlyExecutedTask == None:       #make sure there is a task being executed\n",
    "\n",
    "                currentlyExecutedTask = task_queue.get()\n",
    "                stopFlag = False\n",
    "                currentlyExecutedThread = runTaskInThread(currentlyExecutedTask)\n",
    "                execution_order.append(currentlyExecutedTask)\n",
    "\n",
    "            else:\n",
    "                #make sure task queue still has values \n",
    "                if not task_queue.empty():\n",
    "\n",
    "                    # currently queued task with highest priority\n",
    "                    highestPriority = task_queue.get() \n",
    "            \n",
    "                     #check if there is a queued task with a higher priority, if yes, swap the tasks\n",
    "                    if highestPriority.deadline < currentlyExecutedTask.deadline: \n",
    "                  \n",
    "                        #currentlyExecutedTask.stop_task()\n",
    "                        stopFlag = True\n",
    "                        task_queue.put(currentlyExecutedTask)\n",
    "                        currentlyExecutedTask = None\n",
    "                        task_queue.put(highestPriority)\n",
    "\n",
    "                    else: \n",
    "                        #put the task back if it doesn't have a higher priority than the one currently being executed\n",
    "                        task_queue.put(highestPriority)\n",
    "\n",
    "\n",
    "            \n",
    "        time.sleep(1)  # Sleep for a second before checking again"
   ]
  },
  {
   "cell_type": "markdown",
   "metadata": {},
   "source": [
    "The first two tasks are added after 5 seconds of starting the monitoring queue and the last task after another 5 seconds."
   ]
  },
  {
   "cell_type": "code",
   "execution_count": null,
   "metadata": {},
   "outputs": [],
   "source": [
    "monitoring_thread = threading.Thread(target=monitor_queue)\n",
    "monitoring_thread.start()\n",
    "\n",
    "time.sleep(5)\n",
    "\n",
    "print(\"adding two new tasks to the priority queue \\n\")\n",
    "task_queue.put(Task(1, 10, datetime(2024, 4, 17, 15, 15)))\n",
    "task_queue.put(Task(2, 1, datetime(2024, 4, 17, 15, 30)))\n",
    "\n",
    "time.sleep(5)\n",
    "print(\"adding one new task to the priority queue\")\n",
    "task_queue.put(Task(3, 5, datetime(2024, 4, 17, 15, 10)))\n",
    "print(\"adding complete, no more new tasks to add \\n\" )"
   ]
  },
  {
   "cell_type": "markdown",
   "metadata": {},
   "source": [
    "The execution order can be printed out here, after uncommenting the last line"
   ]
  },
  {
   "cell_type": "code",
   "execution_count": null,
   "metadata": {},
   "outputs": [],
   "source": [
    "def printSchedulingOrder():\n",
    "    global stopMonitoring\n",
    "    stopMonitoring = True\n",
    "    for i in execution_order:\n",
    "          i.print_values()\n",
    "\n",
    "#printSchedulingOrder()"
   ]
  },
  {
   "cell_type": "markdown",
   "metadata": {},
   "source": []
  }
 ],
 "metadata": {
  "kernelspec": {
   "display_name": "Python 3",
   "language": "python",
   "name": "python3"
  },
  "language_info": {
   "codemirror_mode": {
    "name": "ipython",
    "version": 3
   },
   "file_extension": ".py",
   "mimetype": "text/x-python",
   "name": "python",
   "nbconvert_exporter": "python",
   "pygments_lexer": "ipython3",
   "version": "3.10.8"
  }
 },
 "nbformat": 4,
 "nbformat_minor": 2
}
