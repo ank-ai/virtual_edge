{
 "cells": [
  {
   "cell_type": "markdown",
   "metadata": {},
   "source": [
    "Implemented a Generator Class, which can generate vehicles and tasks for said vehicles with a poisson distribution.\n",
    "The second to last cell can be manipulated to try out the FIFO/ EDF scheduling resource"
   ]
  },
  {
   "cell_type": "code",
   "execution_count": 1,
   "metadata": {},
   "outputs": [
    {
     "name": "stdout",
     "output_type": "stream",
     "text": [
      "Requirement already satisfied: simpy in /Users/Ankai/.julia/conda/3/lib/python3.10/site-packages (4.1.1)\n",
      "Requirement already satisfied: numpy in /Users/Ankai/.julia/conda/3/lib/python3.10/site-packages (1.26.4)\n"
     ]
    }
   ],
   "source": [
    "! pip install simpy\n",
    "import simpy\n",
    "! pip install numpy\n",
    "import numpy as np\n",
    "import random\n",
    "random.seed(42)"
   ]
  },
  {
   "cell_type": "markdown",
   "metadata": {},
   "source": []
  },
  {
   "cell_type": "code",
   "execution_count": 2,
   "metadata": {},
   "outputs": [],
   "source": [
    "class Task:\n",
    "\n",
    "    def __init__(self, id, priority, duration):\n",
    "        self.id = id\n",
    "        self.priority = priority\n",
    "        self.duration = duration\n",
    "        self.time_spent_processing = 0\n",
    "\n",
    "    def process(self, environment, resource):\n",
    "\n",
    "        print(f'Task {self.id} came into existence at {environment.now}')\n",
    "        environment.plan.append(f'Task {self.id} came into existence at {environment.now} with priority {self.priority} and duration {self.duration}')\n",
    "        \n",
    "        # keep requesting resource if processing duration hasn't been reached\n",
    "        while(self.time_spent_processing < self.duration):\n",
    "\n",
    "             if isinstance(resource, simpy.PriorityResource):\n",
    "                req = resource.request(priority = self.priority)\n",
    "             else:\n",
    "                req = resource.request()\n",
    "\n",
    "             with req as req:\n",
    "            \n",
    "                try:\n",
    "                    #before receiving resource\n",
    "                    print(f'Task {self.id} requesting at {environment.now} with priority {self.priority}')\n",
    "                    yield req\n",
    "                    #while holding resource\n",
    "                    print(f'Task {self.id} got resource at {environment.now}')\n",
    "                    environment.plan.append(f'Task {self.id} got resource at {environment.now}')\n",
    "                    #try to timeout for the time needed to complete the task\n",
    "                    yield environment.timeout(self.duration - self.time_spent_processing) \n",
    "                    print(f'Task {self.id} completed at {environment.now}')\n",
    "                    #exit loop if processing is complete\n",
    "                    break\n",
    "\n",
    "                except simpy.Interrupt as interrupt:\n",
    "                    by = interrupt.cause.by\n",
    "                    usage = environment.now - interrupt.cause.usage_since\n",
    "                    #save the processing progress of the task\n",
    "                    self.time_spent_processing += usage\n",
    "                    print(f'Task {self.id} got preempted by {by} at {environment.now} after {usage} time entities')"
   ]
  },
  {
   "cell_type": "code",
   "execution_count": 3,
   "metadata": {},
   "outputs": [],
   "source": [
    "class Vehicle:\n",
    "\n",
    "    def __init__(self, id, environment,tasks,resource):\n",
    "\n",
    "        self.id = id\n",
    "        self.environment = environment\n",
    "        self.tasks = tasks\n",
    "        self.resource = resource\n",
    "\n",
    "        print(f'Vehicle {self.id} spawned in environment at time {self.environment.now}')\n",
    "\n",
    "        for task in tasks:                             #starts each tasks lifecycle\n",
    "            self.environment.process(task.process(self.environment, resource))\n",
    "\n",
    "    def allocateTask(self, task):\n",
    "        self.tasks.append(task)\n",
    "        self.environment.process(task.process(self.environment, self.resource))\n",
    "        \n"
   ]
  },
  {
   "cell_type": "markdown",
   "metadata": {},
   "source": [
    "Generate a vehicle around every 5 time units and a new task every 2.5 units"
   ]
  },
  {
   "cell_type": "code",
   "execution_count": 4,
   "metadata": {},
   "outputs": [],
   "source": [
    "class Generator:\n",
    "\n",
    "    def __init__(self, lambda_tasks, lambda_vehicles, env, resource):\n",
    "\n",
    "        self.lambda_tasks = lambda_tasks\n",
    "        self.lambda_vehicles = lambda_vehicles\n",
    "        self.environment = env\n",
    "        self.resource = resource\n",
    "        self.vehicles = []\n",
    "        self.tasks = []\n",
    "        self.task_count = 0\n",
    "        self.vehicle_count = 0\n",
    "        self.event = simpy.Event(env)       #event for first car created \n",
    "        #self.plan = []\n",
    "\n",
    "        env.process(self.generateVehicles())\n",
    "        env.process(self.generateTasks())\n",
    "\n",
    "    def generateTasks(self):\n",
    "        \n",
    "        while True:\n",
    "         yield self.environment.timeout(np.random.poisson(self.lambda_tasks))\n",
    "         priority = random.randint(0, 5)\n",
    "         duration = random.randint(1, 5)\n",
    "         new_task = Task(self.task_count, priority, duration)\n",
    "         self.tasks.append(new_task)\n",
    "         #print(f'created new task at time {self.environment.now}')     # first new task output was inconsistent\n",
    "         self.task_count+=1\n",
    "         # allocate to a vehicle\n",
    "         if len(self.vehicles) == 0:\n",
    "          yield self.event # make sure there is at least one vehicle\n",
    "         random_vehicle = np.random.choice(self.vehicles)      \n",
    "         random_vehicle.allocateTask(new_task)\n",
    "\n",
    "\n",
    "    def generateVehicles(self):\n",
    "        while True:\n",
    "         yield self.environment.timeout(np.random.poisson(self.lambda_vehicles))\n",
    "         new_vehicle = Vehicle(self.vehicle_count, self.environment,[], self.resource)\n",
    "         self.vehicles.append(new_vehicle)\n",
    "\n",
    "         if not self.event.triggered:\n",
    "          self.event.succeed()"
   ]
  },
  {
   "cell_type": "code",
   "execution_count": 5,
   "metadata": {},
   "outputs": [
    {
     "name": "stdout",
     "output_type": "stream",
     "text": [
      "Vehicle 0 spawned in environment at time 5\n",
      "Task 0 came into existence at 5\n",
      "Task 0 requesting at 5 with priority 5\n",
      "Task 0 got resource at 5\n",
      "Task 0 completed at 6\n",
      "Task 1 came into existence at 7\n",
      "Task 1 requesting at 7 with priority 0\n",
      "Task 1 got resource at 7\n",
      "Task 2 came into existence at 9\n",
      "Task 2 requesting at 9 with priority 1\n",
      "Task 1 completed at 10\n",
      "Task 2 got resource at 10\n",
      "Task 3 came into existence at 11\n",
      "Task 3 requesting at 11 with priority 1\n",
      "Vehicle 0 spawned in environment at time 12\n",
      "Task 2 completed at 12\n",
      "Task 4 came into existence at 12\n",
      "Task 4 requesting at 12 with priority 5\n",
      "Task 3 got resource at 12\n",
      "Task 5 came into existence at 13\n",
      "Task 5 requesting at 13 with priority 0\n",
      "Task 3 got preempted by <Process(process) object at 0x116ec3b50> at 13 after 1 time entities\n",
      "Task 5 got resource at 13\n",
      "Task 6 came into existence at 16\n",
      "Task 6 requesting at 16 with priority 3\n",
      "Vehicle 0 spawned in environment at time 17\n",
      "Task 5 completed at 18\n",
      "Task 6 got resource at 18\n",
      "Task 7 came into existence at 19\n",
      "Task 7 requesting at 19 with priority 0\n",
      "Task 6 got preempted by <Process(process) object at 0x116ec3760> at 19 after 1 time entities\n",
      "Task 7 got resource at 19\n",
      "Task 7 completed at 20\n",
      "Task 4 got resource at 20\n",
      "Vehicle 0 spawned in environment at time 21\n",
      "Task 8 came into existence at 21\n",
      "Task 8 requesting at 21 with priority 1\n",
      "Task 4 got preempted by <Process(process) object at 0x116ec3280> at 21 after 1 time entities\n",
      "Task 4 requesting at 21 with priority 5\n",
      "Task 9 came into existence at 21\n",
      "Task 9 requesting at 21 with priority 4\n",
      "Task 8 got resource at 21\n",
      "Task 10 came into existence at 22\n",
      "Task 10 requesting at 22 with priority 0\n",
      "Task 8 got preempted by <Process(process) object at 0x116ec3e20> at 22 after 1 time entities\n",
      "Task 8 requesting at 22 with priority 1\n",
      "Task 11 came into existence at 22\n",
      "Task 11 requesting at 22 with priority 1\n",
      "Task 10 got resource at 22\n",
      "Vehicle 0 spawned in environment at time 25\n",
      "Task 12 came into existence at 26\n",
      "Task 12 requesting at 26 with priority 3\n",
      "Task 10 completed at 27\n",
      "Task 13 came into existence at 27\n",
      "Task 13 requesting at 27 with priority 3\n",
      "Task 8 got resource at 27\n",
      "Task 14 came into existence at 28\n",
      "Task 14 requesting at 28 with priority 2\n",
      "Task 8 completed at 28\n",
      "Task 11 got resource at 28\n",
      "Vehicle 0 spawned in environment at time 29\n"
     ]
    }
   ],
   "source": [
    "intersection = simpy.Environment()\n",
    "intersection.plan = []\n",
    "\n",
    "#different resources to try out for different scheduling types \n",
    "cpuEDF = simpy.PreemptiveResource(intersection, capacity = 1)\n",
    "cpuFifo = simpy.Resource(intersection)\n",
    "\n",
    "poissonVehicles = 5  #1 time interval per vehicle\n",
    "poissonTasks = 2.5  #1 time interval per task\n",
    "\n",
    "generator = Generator(poissonTasks, poissonVehicles, intersection, cpuEDF)     #switch out cpu resource for different scheduling results.\n",
    "\n",
    "intersection.run(until = 30)\n",
    "\n"
   ]
  },
  {
   "cell_type": "code",
   "execution_count": 6,
   "metadata": {},
   "outputs": [
    {
     "name": "stdout",
     "output_type": "stream",
     "text": [
      "Number of Tasks: 15\n",
      "Number of Vehicles: 6\n",
      "Task scheduling plan:\n",
      "Task 0 came into existence at 5 with priority 5 and duration 1\n",
      "Task 0 got resource at 5\n",
      "Task 1 came into existence at 7 with priority 0 and duration 3\n",
      "Task 1 got resource at 7\n",
      "Task 2 came into existence at 9 with priority 1 and duration 2\n",
      "Task 2 got resource at 10\n",
      "Task 3 came into existence at 11 with priority 1 and duration 1\n",
      "Task 4 came into existence at 12 with priority 5 and duration 5\n",
      "Task 3 got resource at 12\n",
      "Task 5 came into existence at 13 with priority 0 and duration 5\n",
      "Task 5 got resource at 13\n",
      "Task 6 came into existence at 16 with priority 3 and duration 1\n",
      "Task 6 got resource at 18\n",
      "Task 7 came into existence at 19 with priority 0 and duration 1\n",
      "Task 7 got resource at 19\n",
      "Task 4 got resource at 20\n",
      "Task 8 came into existence at 21 with priority 1 and duration 2\n",
      "Task 9 came into existence at 21 with priority 4 and duration 5\n",
      "Task 8 got resource at 21\n",
      "Task 10 came into existence at 22 with priority 0 and duration 5\n",
      "Task 11 came into existence at 22 with priority 1 and duration 5\n",
      "Task 10 got resource at 22\n",
      "Task 12 came into existence at 26 with priority 3 and duration 2\n",
      "Task 13 came into existence at 27 with priority 3 and duration 5\n",
      "Task 8 got resource at 27\n",
      "Task 14 came into existence at 28 with priority 2 and duration 1\n",
      "Task 11 got resource at 28\n"
     ]
    }
   ],
   "source": [
    "print(f\"Number of Tasks: {generator.task_count}\")\n",
    "print(f\"Number of Vehicles: {len(generator.vehicles)}\")\n",
    "print(\"Task scheduling plan:\")\n",
    "for step in intersection.plan:\n",
    "    print(step)"
   ]
  },
  {
   "cell_type": "markdown",
   "metadata": {},
   "source": [
    "To Do:\n",
    "\n",
    "LIFO Resource,\n",
    "plot scheduling plan,\n",
    "give vehicle ids and print out task allocation to which car\n",
    "\n"
   ]
  }
 ],
 "metadata": {
  "kernelspec": {
   "display_name": "Python 3",
   "language": "python",
   "name": "python3"
  },
  "language_info": {
   "codemirror_mode": {
    "name": "ipython",
    "version": 3
   },
   "file_extension": ".py",
   "mimetype": "text/x-python",
   "name": "python",
   "nbconvert_exporter": "python",
   "pygments_lexer": "ipython3",
   "version": "3.10.8"
  }
 },
 "nbformat": 4,
 "nbformat_minor": 2
}
