{
 "cells": [
  {
   "cell_type": "markdown",
   "metadata": {},
   "source": [
    "Conversion of Earliest Deadline First implementation to SimPy."
   ]
  },
  {
   "cell_type": "code",
   "execution_count": 2,
   "metadata": {},
   "outputs": [
    {
     "name": "stdout",
     "output_type": "stream",
     "text": [
      "Requirement already satisfied: simpy in /Users/Ankai/.julia/conda/3/lib/python3.10/site-packages (4.1.1)\n"
     ]
    }
   ],
   "source": [
    "! pip install simpy\n",
    "import simpy"
   ]
  },
  {
   "cell_type": "markdown",
   "metadata": {},
   "source": [
    "Each task has:\n",
    "- an id\n",
    "- an environment\n",
    "- a resource \n",
    "- a waiting time, before beginning the task\n",
    "- a priority\n",
    "- and a duration\n",
    "\n",
    "The task actor/ process starts by waiting a certain amount of time, after which it repeatedly checks if the duration of task execution has been reached. If execution length is not reached, the task requests the resource and tries to timeout for the duration it needs to execute. If it is interrupted during the timeout, the duration of execution is saved and the task will request the resource again."
   ]
  },
  {
   "cell_type": "code",
   "execution_count": 10,
   "metadata": {},
   "outputs": [],
   "source": [
    "def task (id, environment, resource, wait, prio, duration, schedule):\n",
    "    time_spent_executing = 0\n",
    "    print(f'Task {id} came into existence at {environment.now}')\n",
    "    yield environment.timeout(wait)\n",
    "\n",
    "    while(time_spent_executing < duration): #does while loop make sense\n",
    "\n",
    "        with resource.request(priority = prio) as req:\n",
    "           \n",
    "            try:\n",
    "                print(f'Task {id} requesting at {environment.now} with priority {prio}')\n",
    "                yield req\n",
    "                print(f'Task {id} got resource at {environment.now}')\n",
    "                schedule.append(f'Task {id} at {environment.now}')\n",
    "                yield environment.timeout(duration-time_spent_executing) \n",
    "                break\n",
    "            except simpy.Interrupt as interrupt:\n",
    "                print(interrupt)\n",
    "                print(interrupt.cause)\n",
    "                by = interrupt.cause.by\n",
    "                usage = environment.now - interrupt.cause.usage_since\n",
    "                time_spent_executing += usage\n",
    "                print(f'Task {id} got preempted by {by} at {environment.now} after {usage} time entities')\n",
    "\n",
    "    print(f'Task {id} completed at {environment.now}')"
   ]
  },
  {
   "cell_type": "markdown",
   "metadata": {},
   "source": [
    "In this example the cpu is the preemptive resource all tasks have to share. "
   ]
  },
  {
   "cell_type": "code",
   "execution_count": 11,
   "metadata": {},
   "outputs": [
    {
     "name": "stdout",
     "output_type": "stream",
     "text": [
      "Task 1 came into existence at 0\n",
      "Task 2 came into existence at 0\n",
      "Task 3 came into existence at 0\n",
      "Task 1 requesting at 0 with priority 0\n",
      "Task 2 requesting at 0 with priority -1\n",
      "Interrupt(<simpy.resources.resource.Preempted object at 0x10f098d00>)\n",
      "<simpy.resources.resource.Preempted object at 0x10f098d00>\n",
      "Task 1 got preempted by <Process(task) object at 0x10f09b940> at 0 after 0 time entities\n",
      "Task 1 requesting at 0 with priority 0\n",
      "Task 3 requesting at 0 with priority -2\n",
      "Interrupt(<simpy.resources.resource.Preempted object at 0x10f098d00>)\n",
      "<simpy.resources.resource.Preempted object at 0x10f098d00>\n",
      "Task 2 got preempted by <Process(task) object at 0x10f0985b0> at 0 after 0 time entities\n",
      "Task 2 requesting at 0 with priority -1\n",
      "Task 3 got resource at 0\n",
      "Task 3 completed at 5\n",
      "Task 2 got resource at 5\n",
      "Task 2 completed at 10\n",
      "Task 1 got resource at 10\n",
      "Task 1 completed at 15\n"
     ]
    }
   ],
   "source": [
    "env = simpy.Environment()   \n",
    "cpu = simpy.PreemptiveResource(env, capacity = 1)\n",
    "schedule = []\n",
    "\n",
    "procs  = [env.process(task(1, env, cpu, 0, 0, 5, schedule)),\n",
    "          env.process(task(2, env, cpu, 0, -1, 5, schedule )),\n",
    "         env.process(task(3, env, cpu, 0, -2, 5, schedule))]\n",
    "\n",
    "env.run()"
   ]
  },
  {
   "cell_type": "code",
   "execution_count": null,
   "metadata": {},
   "outputs": [],
   "source": [
    "simpy.interrupt()"
   ]
  },
  {
   "cell_type": "markdown",
   "metadata": {},
   "source": [
    "Human readable order in which the tasks are executed"
   ]
  },
  {
   "cell_type": "code",
   "execution_count": 5,
   "metadata": {},
   "outputs": [
    {
     "name": "stdout",
     "output_type": "stream",
     "text": [
      "The Tasks are executed in the following order:\n",
      "Task 3 at 0\n",
      "Task 2 at 5\n",
      "Task 1 at 10\n"
     ]
    }
   ],
   "source": [
    "def printSchedule(schedule):\n",
    "    print('The Tasks are executed in the following order:')\n",
    "    for i in schedule:\n",
    "        print(i)\n",
    "\n",
    "printSchedule(schedule)"
   ]
  }
 ],
 "metadata": {
  "kernelspec": {
   "display_name": "Python 3",
   "language": "python",
   "name": "python3"
  },
  "language_info": {
   "codemirror_mode": {
    "name": "ipython",
    "version": 3
   },
   "file_extension": ".py",
   "mimetype": "text/x-python",
   "name": "python",
   "nbconvert_exporter": "python",
   "pygments_lexer": "ipython3",
   "version": "3.10.8"
  }
 },
 "nbformat": 4,
 "nbformat_minor": 2
}
